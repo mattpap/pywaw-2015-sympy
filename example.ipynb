{
 "cells": [
  {
   "cell_type": "code",
   "execution_count": null,
   "metadata": {
    "collapsed": false
   },
   "outputs": [],
   "source": [
    "from sympy import *\n",
    "init_printing(use_latex=True)"
   ]
  },
  {
   "cell_type": "code",
   "execution_count": null,
   "metadata": {
    "collapsed": true
   },
   "outputs": [],
   "source": [
    "import networkx as nx"
   ]
  },
  {
   "cell_type": "code",
   "execution_count": null,
   "metadata": {
    "collapsed": true
   },
   "outputs": [],
   "source": [
    "V = range(1, 12+1)"
   ]
  },
  {
   "cell_type": "code",
   "execution_count": null,
   "metadata": {
    "collapsed": true
   },
   "outputs": [],
   "source": [
    "E = [(1,2),(2,3),(1,4),(1,6),(1,12),(2,5),(2,7),(3,8),(3,10),(4,11),(4,9),(5,6),\n",
    "     (6,7),(7,8),(8,9),(9,10),(10,11),(11,12),(5,12),(5,9),(6,10),(7,11),(8,12)]"
   ]
  },
  {
   "cell_type": "code",
   "execution_count": null,
   "metadata": {
    "collapsed": true
   },
   "outputs": [],
   "source": [
    "g = nx.Graph()\n",
    "g.add_nodes_from(V)\n",
    "g.add_edges_from(E)"
   ]
  },
  {
   "cell_type": "code",
   "execution_count": null,
   "metadata": {
    "collapsed": false
   },
   "outputs": [],
   "source": [
    "import bokeh.plotting as plt\n",
    "plt.output_notebook()\n",
    "\n",
    "def nx_draw(g, layout=nx.circular_layout, node_color=\"white\", text_color=\"black\"):\n",
    "    pos = layout(g)\n",
    "    xs, ys = [], []\n",
    "    labels = [ str(v) for v in g.nodes() ]\n",
    "    vx, vy = zip(*[ pos[v] for v in g.nodes() ])\n",
    "    for (a, b) in g.edges():\n",
    "        x0, y0 = pos[a]\n",
    "        x1, y1 = pos[b]\n",
    "        xs.append([x0, x1])\n",
    "        ys.append([y0, y1])\n",
    "    f = plt.figure(width=300, height=300, x_axis_type=None, y_axis_type=None,\n",
    "                   outline_line_color=None, toolbar_location=None)\n",
    "    f.multi_line(xs, ys, line_color=\"black\")\n",
    "    f.circle(vx, vy, size=16, line_color=\"black\", fill_color=node_color)\n",
    "    f.text(vx, vy, text=labels, text_color=text_color, text_font_size=\"10px\",\n",
    "           text_align=\"center\", text_baseline=\"middle\")\n",
    "    return f"
   ]
  },
  {
   "cell_type": "code",
   "execution_count": null,
   "metadata": {
    "collapsed": false
   },
   "outputs": [],
   "source": [
    "plt.show(nx_draw(g))"
   ]
  },
  {
   "cell_type": "code",
   "execution_count": null,
   "metadata": {
    "collapsed": false
   },
   "outputs": [],
   "source": [
    "Vx = [ var('x%d' % i) for i in V ]\n",
    "Ex = [ (Vx[i-1], Vx[j-1]) for i, j in E ]\n",
    "F3 = [ xi**3 - 1 for xi in Vx ]\n",
    "Fg = [ xi**2 + xi*xj + xj**2 for xi, xj in Ex ]\n",
    "Fx = F3 + Fg"
   ]
  },
  {
   "cell_type": "code",
   "execution_count": null,
   "metadata": {
    "collapsed": false
   },
   "outputs": [],
   "source": [
    "G = groebner(Fx, order='lex')"
   ]
  },
  {
   "cell_type": "code",
   "execution_count": null,
   "metadata": {
    "collapsed": true
   },
   "outputs": [],
   "source": [
    "colors = var('red,green,blue')\n",
    "roots_of_unity = roots(Dummy()**3 - 1, multiple=True)\n",
    "color_map = dict(zip(roots_of_unity, colors))"
   ]
  },
  {
   "cell_type": "code",
   "execution_count": null,
   "metadata": {
    "collapsed": true
   },
   "outputs": [],
   "source": [
    "solutions = solve(G, *Vx)"
   ]
  },
  {
   "cell_type": "code",
   "execution_count": null,
   "metadata": {
    "collapsed": false
   },
   "outputs": [],
   "source": [
    "colorings = [ [ color_map[zeta] for zeta in solution ] for solution in solutions ]"
   ]
  },
  {
   "cell_type": "code",
   "execution_count": null,
   "metadata": {
    "collapsed": false
   },
   "outputs": [],
   "source": [
    "plots = []\n",
    "for i, coloring in enumerate(colorings):\n",
    "    f = nx_draw(g, node_color=[ str(color) for color in coloring ], text_color=\"white\")\n",
    "    if i % 2 == 0:\n",
    "        plots.append([f])\n",
    "    else:\n",
    "        plots[-1].append(f)\n",
    "plt.show(plt.gridplot(plots, toolbar_location=None))"
   ]
  },
  {
   "cell_type": "code",
   "execution_count": null,
   "metadata": {
    "collapsed": true
   },
   "outputs": [],
   "source": []
  }
 ],
 "metadata": {
  "kernelspec": {
   "display_name": "Python 2",
   "language": "python",
   "name": "python2"
  },
  "language_info": {
   "codemirror_mode": {
    "name": "ipython",
    "version": 2
   },
   "file_extension": ".py",
   "mimetype": "text/x-python",
   "name": "python",
   "nbconvert_exporter": "python",
   "pygments_lexer": "ipython2",
   "version": "2.7.11"
  }
 },
 "nbformat": 4,
 "nbformat_minor": 0
}
